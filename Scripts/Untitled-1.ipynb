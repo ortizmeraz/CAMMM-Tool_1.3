{
 "cells": [
  {
   "cell_type": "code",
   "execution_count": 16,
   "metadata": {},
   "outputs": [],
   "source": [
    "import csv\n",
    "Path=\"/mnt/f/OneDrive - Concordia University - Canada/RA-CAMM/Density Calculations/Service/Tables/QuebecRawData.csv\""
   ]
  },
  {
   "cell_type": "code",
   "execution_count": 17,
   "metadata": {},
   "outputs": [
    {
     "name": "stdout",
     "output_type": "stream",
     "text": [
      "<_csv.reader object at 0x7f2b4959ed60>\n"
     ]
    }
   ],
   "source": [
    "Data={}\n",
    "ProcData={}\n",
    "DisolveFiled=\"fclass\"\n",
    "ConcatField=\"name\"\n",
    "with open(Path,encoding=\"utf-8\") as csv_file:\n",
    "    csv_reader = csv.reader(csv_file, delimiter=',')\n",
    "    headers = next(csv_reader, None)\n",
    "    print(csv_reader)\n",
    "    for idx,row in enumerate(csv_reader):\n",
    "        # print(idx,row)\n",
    "        Data[idx]={}\n",
    "        for j,elem in enumerate(row):\n",
    "            Data[idx][headers[j]]=elem\n",
    "\n",
    "for ki in Data.keys():\n",
    "    # print(ki, Data[ki])\n",
    "    if Data[ki][DisolveFiled] not in ProcData.keys():\n",
    "        Data[ki][DisolveFiled]=[]\n",
    "    Data[ki][DisolveFiled].append(Data[ki][ConcatField])"
   ]
  },
  {
   "cell_type": "code",
   "execution_count": 18,
   "metadata": {},
   "outputs": [],
   "source": [
    "for ki in ProcData.keys():\n",
    "    print(ki,len(ProcData[ki]),ProcData[ki])"
   ]
  }
 ],
 "metadata": {
  "kernelspec": {
   "display_name": "Python 3.8.10 64-bit",
   "language": "python",
   "name": "python3"
  },
  "language_info": {
   "codemirror_mode": {
    "name": "ipython",
    "version": 3
   },
   "file_extension": ".py",
   "mimetype": "text/x-python",
   "name": "python",
   "nbconvert_exporter": "python",
   "pygments_lexer": "ipython3",
   "version": "3.8.10"
  },
  "orig_nbformat": 4,
  "vscode": {
   "interpreter": {
    "hash": "916dbcbb3f70747c44a77c7bcd40155683ae19c65e1c03b4aa3499c5328201f1"
   }
  }
 },
 "nbformat": 4,
 "nbformat_minor": 2
}
